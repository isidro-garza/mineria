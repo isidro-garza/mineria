{
 "cells": [
  {
   "cell_type": "code",
   "execution_count": 1,
   "metadata": {},
   "outputs": [
    {
     "name": "stdout",
     "output_type": "stream",
     "text": [
      "Isidro Garza Villarreal 1818012\n"
     ]
    }
   ],
   "source": [
    "print(\"Isidro Garza Villarreal 1818012\")"
   ]
  },
  {
   "cell_type": "code",
   "execution_count": 8,
   "metadata": {},
   "outputs": [],
   "source": [
    "#Ejercicio 1\n",
    "#Realiza una variable con tu matricula y realiza una secuencia de imprimir con tu nombre y tu matricula concatenados."
   ]
  },
  {
   "cell_type": "code",
   "execution_count": 34,
   "metadata": {},
   "outputs": [
    {
     "name": "stdout",
     "output_type": "stream",
     "text": [
      "introduce tu matricula 1818012\n",
      "hola Isidro Garza Villarreal 1818012\n"
     ]
    }
   ],
   "source": [
    "m= str(input(\"introduce tu matricula \"))\n",
    "n= (\"Isidro Garza Villarreal\")\n",
    "\n",
    "c= n + \" \"+ m\n",
    "print(\"hola\", c)\n"
   ]
  },
  {
   "cell_type": "code",
   "execution_count": 9,
   "metadata": {},
   "outputs": [
    {
     "name": "stdout",
     "output_type": "stream",
     "text": [
      "**********CALCULADORA**********\n",
      "1.Suma\n",
      "2.Resta\n",
      "3.Multiplicacion\n",
      "4.Division\n",
      "5.Exponente\n",
      "0.Salir\n",
      "Introduce la operacion que deseas realizar: 5\n",
      "Introdcue el primer numero: 4\n",
      "Introduce el segundo numero: 2\n",
      "El resultado de A ** B es:  16.0\n",
      "**********CALCULADORA**********\n",
      "1.Suma\n",
      "2.Resta\n",
      "3.Multiplicacion\n",
      "4.Division\n",
      "5.Exponente\n",
      "0.Salir\n",
      "Introduce la operacion que deseas realizar: 0\n",
      "saliendo de calculadora....\n",
      "Ya ha salido de la calculadora\n"
     ]
    }
   ],
   "source": [
    "# ejercicio 2\n",
    "#Pidiendo el input del usuario pide dos números y crea una pequeña calculadora con los operadores básicos de suma, resta, multiplicación, división, y exponente. Utilizando el loop de while\n",
    "opcion = 10\n",
    "while opcion!=0:\n",
    "    print(\"**********CALCULADORA**********\")\n",
    "    print(\"1.Suma\")\n",
    "    print(\"2.Resta\")\n",
    "    print(\"3.Multiplicacion\")\n",
    "    print(\"4.Division\")\n",
    "    print(\"5.Exponente\")\n",
    "    print(\"0.Salir\")\n",
    "    opcion = int(input(\"Introduce la operacion que deseas realizar: \"))\n",
    "   \n",
    "    if opcion == 1:\n",
    "        a = float(input(\"Introdcue el primer numero: \"))\n",
    "        b = float(input(\"Introduce el segundo numero: \"))\n",
    "        r = a + b\n",
    "        print(\"El resultado de A + B es: \",r)\n",
    "    elif opcion == 2:\n",
    "        a = float(input(\"Introdcue el primer numero: \"))\n",
    "        b = float(input(\"Introduce el segundo numero: \"))\n",
    "        r = a - b\n",
    "        print(\"El resultado de A - B es: \",r)\n",
    "    elif opcion == 3:\n",
    "        a = float(input(\"Introdcue el primer numero: \"))\n",
    "        b = float(input(\"Introduce el segundo numero: \"))\n",
    "        r = a * b\n",
    "        print(\"El resultado de A * B es: \",r)\n",
    "    elif opcion == 4:\n",
    "        a = float(input(\"Introdcue el primer numero: \"))\n",
    "        b = float(input(\"Introduce el segundo numero: \"))\n",
    "        r = float(a)/b\n",
    "        print(\"El resultado de A / B es: \",r)\n",
    "    elif opcion == 5:\n",
    "        a = float(input(\"Introdcue el primer numero: \"))\n",
    "        b = float(input(\"Introduce el segundo numero: \"))\n",
    "        r = a**b\n",
    "        print(\"El resultado de A ** B es: \",r)\n",
    "    else:\n",
    "        print(\"saliendo de calculadora....\")\n",
    "        \n",
    "\n",
    "print(\"Ya ha salido de la calculadora\")\n",
    "\n",
    "   "
   ]
  },
  {
   "cell_type": "code",
   "execution_count": 10,
   "metadata": {},
   "outputs": [
    {
     "name": "stdout",
     "output_type": "stream",
     "text": [
      "La lista es:  [3, 6, 9, 12, 15, 18, 21, 24, 27, 30]\n",
      "La suma del arreglo es:  165\n"
     ]
    }
   ],
   "source": [
    "#ejercicio 3\n",
    "lis = []\n",
    "for i in range(0,10,1):\n",
    "    lis.append((i+1)*3)\n",
    "\n",
    "print(\"La lista es: \",lis)\n",
    "s=0\n",
    "for i in range(0,10,1):\n",
    "    s=s+lis[i]\n",
    "    \n",
    "print(\"La suma del arreglo es: \",s)"
   ]
  },
  {
   "cell_type": "code",
   "execution_count": 11,
   "metadata": {},
   "outputs": [
    {
     "name": "stdout",
     "output_type": "stream",
     "text": [
      "Introduce un numero: 4\n",
      "El numero tecleado  4 es un numero par\n",
      "El numero tecleado 4 no es primo\n"
     ]
    }
   ],
   "source": [
    "#ejercicio 4\n",
    "num = int(input(\"Introduce un numero: \"))\n",
    "if num%2==0:\n",
    "    print(\"El numero tecleado \",num,\"es un numero par\")\n",
    "else:\n",
    "    print(\"El numero tecleado \",num,\"es un numero impar\")\n",
    "\n",
    "c=0\n",
    "primo = 0\n",
    "for i in range(1,num+1):\n",
    "    if (num%i)==0:\n",
    "        c=c+1\n",
    "    if c>=3:\n",
    "        primo= 1\n",
    "        break\n",
    "        \n",
    "if c==2 or primo==0:\n",
    "    print(\"El numero tecleado\", num,\" es primo\")\n",
    "else:\n",
    "    print(\"El numero tecleado\", num,\"no es primo\")"
   ]
  },
  {
   "cell_type": "code",
   "execution_count": 12,
   "metadata": {},
   "outputs": [
    {
     "name": "stdout",
     "output_type": "stream",
     "text": [
      "**********CALCULADORA**********\n",
      "1.Suma\n",
      "2.Resta\n",
      "3.Multiplicacion\n",
      "4.Division\n",
      "5.Exponente\n",
      "0.Salir\n",
      "Introduce la operacion que deseas realizar: 3\n",
      "Introdcue el primer numero: 4\n",
      "Introduce el segundo numero: 3\n",
      "El resultado de A * B es:  12.0\n",
      "**********CALCULADORA**********\n",
      "1.Suma\n",
      "2.Resta\n",
      "3.Multiplicacion\n",
      "4.Division\n",
      "5.Exponente\n",
      "0.Salir\n",
      "Introduce la operacion que deseas realizar: 0\n",
      "Apagando calculadora....\n",
      "Ya ha salido de la calculadora\n"
     ]
    }
   ],
   "source": [
    "#ejercicio 5\n",
    "def s(a,b):\n",
    "    return a+b\n",
    "def r(a,b):\n",
    "    return a-b\n",
    "def m(a,b):\n",
    "    return a*b\n",
    "def d(a,b):\n",
    "    return a/b\n",
    "def e(a,b):\n",
    "    return a**b\n",
    "\n",
    "\n",
    "opcion = 10\n",
    "while opcion!=0:\n",
    "    print(\"**********CALCULADORA**********\")\n",
    "    print(\"1.Suma\")\n",
    "    print(\"2.Resta\")\n",
    "    print(\"3.Multiplicacion\")\n",
    "    print(\"4.Division\")\n",
    "    print(\"5.Exponente\")\n",
    "    print(\"0.Salir\")\n",
    "    opcion = int(input(\"Introduce la operacion que deseas realizar: \"))\n",
    "   \n",
    "    if opcion == 1:\n",
    "        a = float(input(\"Introdcue el primer numero: \"))\n",
    "        b = float(input(\"Introduce el segundo numero: \"))\n",
    "        res = s(a,b)\n",
    "        print(\"El resultado de A + B es: \",res)\n",
    "    elif opcion == 2:\n",
    "        a = float(input(\"Introdcue el primer numero: \"))\n",
    "        b = float(input(\"Introduce el segundo numero: \"))\n",
    "        res = r(a,b)\n",
    "        print(\"El resultado de A - B es: \",res)\n",
    "    elif opcion == 3:\n",
    "        a = float(input(\"Introdcue el primer numero: \"))\n",
    "        b = float(input(\"Introduce el segundo numero: \"))\n",
    "        res = m(a,b)\n",
    "        print(\"El resultado de A * B es: \",res)\n",
    "    elif opcion == 4:\n",
    "        a = float(input(\"Introdcue el primer numero: \"))\n",
    "        b = float(input(\"Introduce el segundo numero: \"))\n",
    "        res = d(a,b) \n",
    "        print(\"El resultado de A / B es: \",res)\n",
    "    elif opcion == 5:\n",
    "        a = float(input(\"Introdcue el primer numero: \"))\n",
    "        b = float(input(\"Introduce el segundo numero: \"))\n",
    "        res = e(a,b)\n",
    "        print(\"El resultado de A ** B es: \",res)\n",
    "    else:\n",
    "        print(\"Apagando calculadora....\")\n",
    "        \n",
    "\n",
    "print(\"Ya ha salido de la calculadora\")"
   ]
  },
  {
   "cell_type": "code",
   "execution_count": 13,
   "metadata": {},
   "outputs": [
    {
     "name": "stdout",
     "output_type": "stream",
     "text": [
      "El numero  3.1416 es de tipo <class 'float'>\n",
      "El numero  5 es de tipo <class 'int'>\n",
      "El numero  True es de tipo <class 'bool'>\n",
      "El numero  (3-5j) es de tipo <class 'complex'>\n"
     ]
    }
   ],
   "source": [
    "#Tuplas\n",
    "f=3.1416\n",
    "i=5\n",
    "b=True\n",
    "c=3-5j\n",
    "print(\"El numero \",f,\"es de tipo\",type(f))\n",
    "print(\"El numero \",i,\"es de tipo\",type(i))\n",
    "print(\"El numero \",b,\"es de tipo\",type(b))\n",
    "print(\"El numero \",c,\"es de tipo\",type(c))"
   ]
  },
  {
   "cell_type": "code",
   "execution_count": 14,
   "metadata": {},
   "outputs": [
    {
     "name": "stdout",
     "output_type": "stream",
     "text": [
      "Primer valor es  1 y el ultimo valor es  5\n"
     ]
    }
   ],
   "source": [
    "t=(1,2,3,4,5)\n",
    "print(\"Primer valor es \",t[0],\"y el ultimo valor es \",t[-1])\n"
   ]
  },
  {
   "cell_type": "code",
   "execution_count": 15,
   "metadata": {},
   "outputs": [
    {
     "name": "stdout",
     "output_type": "stream",
     "text": [
      "(1, 2, 3, 4, 5, 'Hola', 'que', 'muchacho')\n"
     ]
    }
   ],
   "source": [
    "\n",
    "t=t+(\"Hola\",\"que\",\"muchacho\")\n",
    "print(t)"
   ]
  },
  {
   "cell_type": "code",
   "execution_count": 16,
   "metadata": {},
   "outputs": [
    {
     "data": {
      "text/plain": [
       "False"
      ]
     },
     "execution_count": 16,
     "metadata": {},
     "output_type": "execute_result"
    }
   ],
   "source": [
    "\"hola\" in t"
   ]
  },
  {
   "cell_type": "code",
   "execution_count": 17,
   "metadata": {},
   "outputs": [
    {
     "name": "stdout",
     "output_type": "stream",
     "text": [
      "[815, 569, 396, 665, 658, 246, 899, 169, 351, 48, 172, 685, 846, 821, 545, 769, 583, 223, 661, 809, 709, 918, 36, 223, 492, 532, 636, 780, 710, 432, 672, 130, 785, 594, 259, 263, 234, 276, 596, 308]\n"
     ]
    }
   ],
   "source": [
    "#Listas\n",
    "from random import randint\n",
    "lista=[randint(1,1000) for i in range(40)]\n",
    "\n",
    "print(lista)"
   ]
  },
  {
   "cell_type": "code",
   "execution_count": 20,
   "metadata": {},
   "outputs": [
    {
     "name": "stdout",
     "output_type": "stream",
     "text": [
      "Numeros pares:  [396, 658, 246, 48, 172, 846, 918, 36, 492, 532, 636, 780, 710, 432, 672, 130, 594, 234, 276, 596, 308]\n",
      "Numeros impares:  [815, 569, 665, 899, 169, 351, 685, 821, 545, 769, 583, 223, 661, 809, 709, 223, 785, 259, 263]\n"
     ]
    }
   ],
   "source": [
    "def pareimpar(lista):\n",
    "    par=[]\n",
    "    impar=[]\n",
    "    for i in range(len(lista)):\n",
    "        if lista[i]%2==0:\n",
    "            par.append(lista[i])\n",
    "        else:\n",
    "            impar.append(lista[i])\n",
    "        \n",
    "    return par,impar\n",
    "\n",
    "par,impar=pareimpar(lista)\n",
    "print(\"Numeros pares: \", par)\n",
    "print(\"Numeros impares: \",impar)"
   ]
  },
  {
   "cell_type": "code",
   "execution_count": 21,
   "metadata": {},
   "outputs": [
    {
     "name": "stdout",
     "output_type": "stream",
     "text": [
      "La longitud de los pares es:  21\n",
      "La longitud de los impares es:  19\n"
     ]
    }
   ],
   "source": [
    "lp=len(par)\n",
    "li=len(impar)\n",
    "print(\"La longitud de los pares es: \",lp)\n",
    "print(\"La longitud de los impares es: \",li)\n"
   ]
  },
  {
   "cell_type": "code",
   "execution_count": 22,
   "metadata": {},
   "outputs": [
    {
     "name": "stdout",
     "output_type": "stream",
     "text": [
      "Pares ordenados de mayor a menor:  [396, 658, 246, 48, 172, 846, 918, 36, 492, 532, 636, 780, 710, 432, 672, 130, 594, 234, 276, 596, 308]\n",
      "Pares ordenados de menor a mayor:  [169, 223, 223, 259, 263, 351, 545, 569, 583, 661, 665, 685, 709, 769, 785, 809, 815, 821, 899]\n"
     ]
    }
   ],
   "source": [
    "impar.sort()\n",
    "print(\"Pares ordenados de mayor a menor: \",par)\n",
    "print(\"Pares ordenados de menor a mayor: \",impar)"
   ]
  },
  {
   "cell_type": "code",
   "execution_count": 23,
   "metadata": {},
   "outputs": [
    {
     "name": "stdout",
     "output_type": "stream",
     "text": [
      "[493, 828, 314, 739, 507, 421, 542, 936, 660, 245, 741, 124, 157, 346, 474, 274, 257, 705, 308, 559, 256, 397, 387, 528, 323, 125, 646, 591, 951, 259, 514, 541, 956, 967, 309, 127, 165, 617, 504]\n"
     ]
    }
   ],
   "source": [
    "from random import randint\n",
    "lista=[randint(1,1000) for _ in range(40)]\n",
    "\n",
    "lista.pop(3)\n",
    "print(lista)"
   ]
  },
  {
   "cell_type": "code",
   "execution_count": 24,
   "metadata": {},
   "outputs": [
    {
     "name": "stdout",
     "output_type": "stream",
     "text": [
      "[493, 'hola', 828, 314, 739, 507, 421, 542, 936, 660, 245, 741, 124, 157, 346, 474, 274, 257, 705, 308, 559, 256, 397, 387, 528, 323, 125, 646, 591, 951, 259, 514, 541, 956, 967, 309, 127, 165, 617, 504]\n"
     ]
    }
   ],
   "source": [
    "lista.insert(1,\"hola\")\n",
    "print(lista)"
   ]
  },
  {
   "cell_type": "code",
   "execution_count": 25,
   "metadata": {},
   "outputs": [
    {
     "name": "stdout",
     "output_type": "stream",
     "text": [
      "[504, 617, 165, 127, 309, 967, 956, 541, 514, 259, 951, 591, 646, 125, 323, 528, 387, 397, 256, 559, 308, 705, 257, 274, 474, 346, 157, 124, 741, 245, 660, 936, 542, 421, 507, 739, 314, 828, 'hola', 493]\n"
     ]
    }
   ],
   "source": [
    "lista.reverse()\n",
    "print(lista)"
   ]
  },
  {
   "cell_type": "code",
   "execution_count": 26,
   "metadata": {},
   "outputs": [
    {
     "name": "stdout",
     "output_type": "stream",
     "text": [
      "38\n"
     ]
    }
   ],
   "source": [
    "\n",
    "print(lista.index(\"hola\"))"
   ]
  },
  {
   "cell_type": "code",
   "execution_count": 27,
   "metadata": {},
   "outputs": [
    {
     "name": "stdout",
     "output_type": "stream",
     "text": [
      "{'isidro': 20, 'andrea': 18, 'vivian': 15, 'juan': 25, 'luis': 10, 'aime': 5}\n"
     ]
    }
   ],
   "source": [
    "#Diccionarios\n",
    "d={\"isidro\":20,\"andrea\":18,\"vivian\":15,\"juan\":25,\"luis\":10,\"aime\":5}\n",
    "print(d)"
   ]
  },
  {
   "cell_type": "code",
   "execution_count": 28,
   "metadata": {},
   "outputs": [
    {
     "name": "stdout",
     "output_type": "stream",
     "text": [
      "[5, 10, 15, 18, 20, 25]\n"
     ]
    }
   ],
   "source": [
    "e=[i for i in d.values()]\n",
    "\n",
    "e.sort()\n",
    "print(e)"
   ]
  },
  {
   "cell_type": "code",
   "execution_count": 29,
   "metadata": {},
   "outputs": [
    {
     "name": "stdout",
     "output_type": "stream",
     "text": [
      "isidro\n",
      "andrea\n",
      "vivian\n",
      "juan\n",
      "luis\n",
      "aime\n"
     ]
    }
   ],
   "source": [
    "for i in d:\n",
    "    print(i)"
   ]
  },
  {
   "cell_type": "code",
   "execution_count": 30,
   "metadata": {},
   "outputs": [
    {
     "name": "stdout",
     "output_type": "stream",
     "text": [
      "{'isidro': 20, 'andrea': 18, 'vivian': 15, 'juan': 25, 'luis': 10, 'aime': 5, 'diego': 18, 'victor': 21}\n"
     ]
    }
   ],
   "source": [
    "d[\"diego\"]=18\n",
    "d[\"victor\"]=21\n",
    "print(d)"
   ]
  },
  {
   "cell_type": "code",
   "execution_count": 31,
   "metadata": {},
   "outputs": [
    {
     "name": "stdout",
     "output_type": "stream",
     "text": [
      "[504, 617, 165, 127, 309, 967, 956, 541, 514, 259, 951, 591, 646, 125, 323, 528, 387, 397, 256, 559, 308, 705, 257, 274, 474, 346, 157, 124, 741, 245, 660, 936, 542, 421, 507, 739, 314, 828, 'hola', 493]\n"
     ]
    }
   ],
   "source": [
    "#Sets\n",
    "from random import randint\n",
    "s=[randint(1,25) for i in range(100)]\n",
    "\n",
    "print(lista)"
   ]
  },
  {
   "cell_type": "code",
   "execution_count": 32,
   "metadata": {},
   "outputs": [
    {
     "name": "stdout",
     "output_type": "stream",
     "text": [
      "100\n"
     ]
    }
   ],
   "source": [
    "print(len(s))"
   ]
  },
  {
   "cell_type": "code",
   "execution_count": 33,
   "metadata": {},
   "outputs": [
    {
     "name": "stdout",
     "output_type": "stream",
     "text": [
      "[5, 10, 1, 9, 3]\n",
      "El munero 5 si esta dentro del set inicial\n",
      "El munero 10 no esta dentro del set inicial\n",
      "El munero 1 si esta dentro del set inicial\n",
      "El munero 9 si esta dentro del set inicial\n",
      "El munero 3 si esta dentro del set inicial\n"
     ]
    }
   ],
   "source": [
    "c=[randint(1,10) for i in range(5)]\n",
    "print(c)\n",
    "\n",
    "for i in range(5):\n",
    "    if c[i] in s:\n",
    "        print(\"El munero\",c[i],\"si esta dentro del set inicial\")\n",
    "    else:\n",
    "        print(\"El munero\",c[i],\"no esta dentro del set inicial\")"
   ]
  },
  {
   "cell_type": "code",
   "execution_count": null,
   "metadata": {},
   "outputs": [],
   "source": []
  }
 ],
 "metadata": {
  "kernelspec": {
   "display_name": "Python 3",
   "language": "python",
   "name": "python3"
  },
  "language_info": {
   "codemirror_mode": {
    "name": "ipython",
    "version": 3
   },
   "file_extension": ".py",
   "mimetype": "text/x-python",
   "name": "python",
   "nbconvert_exporter": "python",
   "pygments_lexer": "ipython3",
   "version": "3.8.3"
  },
  "widgets": {
   "application/vnd.jupyter.widget-state+json": {
    "state": {},
    "version_major": 2,
    "version_minor": 0
   }
  }
 },
 "nbformat": 4,
 "nbformat_minor": 4
}
